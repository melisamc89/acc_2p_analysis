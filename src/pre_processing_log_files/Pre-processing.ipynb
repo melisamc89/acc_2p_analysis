{
 "cells": [
  {
   "cell_type": "markdown",
   "id": "b7f10622-e8a6-41e3-8bce-fa1c66f2bbe2",
   "metadata": {},
   "source": [
    "# Pre-processing Behavioral data\n",
    "### Inspiration from Ronny Eichler pre-processing code\n"
   ]
  },
  {
   "cell_type": "code",
   "execution_count": 1,
   "id": "4017d1dc-6a13-4cb8-b79b-6600ef416f20",
   "metadata": {},
   "outputs": [],
   "source": [
    "# Importation \n",
    "import numpy as np\n",
    "import base64\n",
    "import struct\n",
    "from cobs import cobs\n",
    "from collections import namedtuple\n",
    "from pathlib import Path\n",
    "import matplotlib.pyplot as plt\n",
    "from matplotlib.pyplot import plot\n",
    "from tqdm.notebook import tqdm\n",
    "import scipy.signal\n",
    "from scipy.io import savemat\n",
    "import rawpy\n",
    "import imageio\n",
    "import os\n",
    "import pickle"
   ]
  },
  {
   "cell_type": "markdown",
   "id": "68fe632b-8833-4368-8b88-8024420025a0",
   "metadata": {},
   "source": [
    "#### Name variables"
   ]
  },
  {
   "cell_type": "code",
   "execution_count": 2,
   "id": "919f2c84-eb20-4e3f-a99e-554b31573c65",
   "metadata": {},
   "outputs": [],
   "source": [
    "Path_non_decoded_files= '/home/melisamc/Documentos/photon2_testing/data/log_files/'\n",
    "Path_decoded ='/home/melisamc/Documentos/photon2_testing/logfiles_decoded/'\n",
    "path_output = '/home/melisamc/Documentos/photon2_testing/timestamps/'\n",
    "Name='20220513-165536_677'"
   ]
  },
  {
   "cell_type": "markdown",
   "id": "470d704f-3d7e-4a05-9f7c-159d117ba1b8",
   "metadata": {},
   "source": [
    "#### Path for file to decode"
   ]
  },
  {
   "cell_type": "code",
   "execution_count": 3,
   "id": "711dbdb8-b330-4360-ba63-119c8ce25770",
   "metadata": {
    "tags": []
   },
   "outputs": [],
   "source": [
    "bp=os.path.join(Path_non_decoded_files, Name+'.b64')"
   ]
  },
  {
   "cell_type": "markdown",
   "id": "2a369a06-c572-4777-aae4-bfb82c9cbaed",
   "metadata": {},
   "source": [
    "## Decoding"
   ]
  },
  {
   "cell_type": "markdown",
   "id": "ae34f90a-a86f-4199-9969-7ebeb09f9e50",
   "metadata": {},
   "source": [
    "<div class=\"alert alert-block alert-info\">\n",
    "<b>Info:</b> If the data packet change ( Possible with different version of Teensy) change format here \n",
    "</div>"
   ]
  },
  {
   "cell_type": "code",
   "execution_count": 4,
   "id": "058662a8-afc1-4eab-a578-0ec9eeb4ce69",
   "metadata": {},
   "outputs": [],
   "source": [
    "# Format package\n",
    "DataPacketDesc = {'type': 'B',\n",
    "                  'size': 'B',\n",
    "                  'crc16': 'H',\n",
    "                  'packetID': 'I',\n",
    "                  'us_start': 'I',\n",
    "                  'us_end': 'I',\n",
    "                  'analog': '8H',\n",
    "                  'states': '8l',\n",
    "                  'digitalIn': 'H',\n",
    "                  'digitalOut': 'B',\n",
    "                  'padding': 'x'}\n",
    "\n",
    "\n",
    "DataPacket = namedtuple('DataPacket', DataPacketDesc.keys())\n",
    "DataPacketStruct = '<' + ''.join(DataPacketDesc.values())\n",
    "DataPacketSize = struct.calcsize(DataPacketStruct)\n",
    "\n",
    "# package with non-digital data\n",
    "dtype_no_digital = [\n",
    "    ('type', np.uint8),\n",
    "    ('size', np.uint8),\n",
    "    ('crc16', np.uint16),\n",
    "    ('packetID', np.uint32),\n",
    "    ('us_start', np.uint32),\n",
    "    ('us_end', np.uint32),\n",
    "    ('analog', np.uint16, (8, )),\n",
    "    ('states', np.float32, (8, ))]\n",
    "\n",
    "# DigitalIn and DigitalOut\n",
    "dtype_w_digital = dtype_no_digital + [('digital_in', np.uint16, (16, )), ('digital_out', np.uint8, (8, ))]\n",
    "\n",
    "# Creating arrat with all the data (differenciation digital/non digital)\n",
    "np_DataPacketType_noDigital = np.dtype(dtype_no_digital)\n",
    "np_DataPacketType_withDigital = np.dtype(dtype_w_digital)"
   ]
  },
  {
   "cell_type": "code",
   "execution_count": 5,
   "id": "87333692-e9bc-4085-9d94-156371eb951c",
   "metadata": {},
   "outputs": [],
   "source": [
    "# function to count the packet number\n",
    "def count_lines(fp):\n",
    "    def _make_gen(reader):\n",
    "        b = reader(2**16)\n",
    "        while b:\n",
    "            yield b\n",
    "            b = reader(2**16)\n",
    "    with open(fp, 'rb') as f:\n",
    "        count = sum(buf.count(b'\\n') for buf in _make_gen(f.raw.read))\n",
    "    return count"
   ]
  },
  {
   "cell_type": "code",
   "execution_count": 6,
   "id": "19d57a3f-eb56-40d7-a024-1430b6c94e49",
   "metadata": {},
   "outputs": [
    {
     "name": "stdout",
     "output_type": "stream",
     "text": [
      "CPU times: user 202 ms, sys: 36.3 ms, total: 239 ms\n",
      "Wall time: 238 ms\n",
      "2085888 packets, ~34.76 minutes\n"
     ]
    }
   ],
   "source": [
    "%time num_lines = count_lines(bp)\n",
    "log_duration = num_lines/1000/60\n",
    "print(f'{num_lines} packets, ~{log_duration:0.2f} minutes')"
   ]
  },
  {
   "cell_type": "code",
   "execution_count": 7,
   "id": "bfceeb5f-f170-4fbe-8bba-9a4228cf2edb",
   "metadata": {},
   "outputs": [],
   "source": [
    "# Unpack the data as done on the teensy commander code\n",
    "def unpack_data_packet(dp):\n",
    "    s = struct.unpack(DataPacketStruct, dp)\n",
    "    up = DataPacket(type=s[0], size=s[1], crc16=s[2], packetID=s[3], us_start=s[4], us_end=s[5],\n",
    "                        analog=s[6:14], states=s[14:22], digitalIn=s[22], digitalOut=s[23], padding=None)\n",
    "\n",
    "    return up"
   ]
  },
  {
   "cell_type": "code",
   "execution_count": 8,
   "id": "dcf82a35-7997-4465-8609-dacf70878208",
   "metadata": {},
   "outputs": [
    {
     "data": {
      "application/vnd.jupyter.widget-view+json": {
       "model_id": "e4da721f09b74a24a5022259407c2f1b",
       "version_major": 2,
       "version_minor": 0
      },
      "text/plain": [
       "  0%|          | 0/2085888 [00:00<?, ?it/s]"
      ]
     },
     "metadata": {},
     "output_type": "display_data"
    }
   ],
   "source": [
    "# Decode and create new dataset\n",
    "data = np.zeros(num_lines, dtype=np_DataPacketType_withDigital)\n",
    "non_digital_names = list(np_DataPacketType_noDigital.names)\n",
    "\n",
    "with open(bp, 'rb') as bf:\n",
    "    for nline, line in enumerate(tqdm(bf, total=num_lines)):\n",
    "        bl = cobs.decode(base64.b64decode(line[:-1])[:-1])\n",
    "        dp = unpack_data_packet(bl)\n",
    "\n",
    "        data[non_digital_names][nline] = np.frombuffer(bl[:-4], dtype=np_DataPacketType_noDigital)\n",
    "        digital_arr = np.frombuffer(bl[-4:], dtype=np.uint8)\n",
    "        data[nline]['digital_in'] = np.hstack([np.unpackbits(digital_arr[0]), np.unpackbits(digital_arr[1])])\n",
    "        data[nline]['digital_out'] = np.unpackbits(np.array(digital_arr[2], dtype=np.uint8))"
   ]
  },
  {
   "cell_type": "code",
   "execution_count": 9,
   "id": "56dfd16f-4bc1-42c0-a7cd-e5b20699ed31",
   "metadata": {},
   "outputs": [],
   "source": [
    "#Check for packetID jumps\n",
    "jumps = np.unique(np.diff(data['packetID']))\n",
    "assert(len(jumps) and jumps[0] == 1)"
   ]
  },
  {
   "cell_type": "markdown",
   "id": "ccc38da8-ba6f-41c1-a8b9-e74cb96192b6",
   "metadata": {},
   "source": [
    "#### Save data .mat file"
   ]
  },
  {
   "cell_type": "code",
   "execution_count": 10,
   "id": "18e925b2-853d-4ae6-95ba-326957ae3432",
   "metadata": {},
   "outputs": [],
   "source": [
    "decoded = {\"analog\":data['analog'], \"digitalIn\":data['digital_in'], \"digitalOut\":data['digital_out'], \"startTS\":data['us_start'], \"transmitTS\":data['us_end'], \"longVar\":data['states'], \"packetNums\":data['packetID']}\n",
    "path=os.path.join(Path_decoded, Name+'_decoded'+'.mat')\n",
    "savemat(path, decoded)"
   ]
  },
  {
   "cell_type": "markdown",
   "id": "1e942911-bc20-4078-a14a-90d6b36f8fa1",
   "metadata": {},
   "source": [
    "### Post decoding processing to extract time stamps in frames for analysis"
   ]
  },
  {
   "cell_type": "code",
   "execution_count": 71,
   "id": "28b25c9c-c443-463b-8ed5-cc2a4d08008f",
   "metadata": {},
   "outputs": [],
   "source": [
    "packet_time_stamp = data['us_start']\n",
    "\n",
    "scannerDat = scipy.io.loadmat('/home/melisamc/Documentos/photon2_testing/20220323_audseq_00002_scanner.mat')"
   ]
  },
  {
   "cell_type": "code",
   "execution_count": 105,
   "id": "c0b11135-0913-42fc-918a-34d468e28bae",
   "metadata": {},
   "outputs": [
    {
     "name": "stdout",
     "output_type": "stream",
     "text": [
      "Number of frames: (56326,)\n",
      "Mean Scanner time per frame: 0.0333949061831336\n"
     ]
    }
   ],
   "source": [
    "frameTs = np.zeros((len(scannerDat['frameTs']),))\n",
    "for i in range(len(scannerDat['frameTs'])):\n",
    "    frameTs[i] = scannerDat['frameTs'][i]\n",
    "print('Number of frames:', frameTs.shape)\n",
    "print('Mean Scanner time per frame:', np.mean(np.diff(frameTs)))"
   ]
  },
  {
   "cell_type": "code",
   "execution_count": 88,
   "id": "d46e794f-d509-436c-bfc3-a2f06ea9bfd5",
   "metadata": {},
   "outputs": [
    {
     "name": "stdout",
     "output_type": "stream",
     "text": [
      "0\n",
      "Offset is: 21622 ms \n",
      "Offset is: 722 frames \n",
      "Number of frames is:  56325\n",
      "Instantaneous Sampling rate is:  33.394592003408846\n"
     ]
    }
   ],
   "source": [
    "### compute offset assuming scanner time starts in 0\n",
    "x = decoded['digitalIn'][:,0]\n",
    "print(x[0])\n",
    "x_diff = np.diff(x)\n",
    "positions = np.where(x_diff == 1)[0]+1\n",
    "what_we_want = x_diff[positions]\n",
    "\n",
    "sampling_rate_scanner = np.mean(np.diff(positions))\n",
    "offset_frames = round(positions[0]*sampling_rate_scanner/1000)\n",
    "\n",
    "print('Offset is: ' + f'{positions[0]}' + ' ms ' )\n",
    "print('Offset is: ' + f'{offset_frames}' + ' frames ')\n",
    "\n",
    "print('Number of frames is: ', len(what_we_want))\n",
    "print('Instantaneous Sampling rate is: ', sampling_rate_scanner)"
   ]
  },
  {
   "cell_type": "code",
   "execution_count": 123,
   "id": "5f14910d-ae10-48dc-b086-08bcb84a4732",
   "metadata": {},
   "outputs": [
    {
     "name": "stdout",
     "output_type": "stream",
     "text": [
      "Number of lost packets : 1.9277518912124692e+18\n"
     ]
    }
   ],
   "source": [
    "### sound 1\n",
    "\n",
    "#get sound signal from digital inputs\n",
    "sound1 = decoded['digitalIn'][:,8]\n",
    "sound2 = decoded['digitalIn'][:,9]\n",
    "sound3 = decoded['digitalIn'][:,10]\n",
    "sound4 = decoded['digitalIn'][:,11]\n",
    "sound5 = decoded['digitalIn'][:,12]\n",
    "sound6 = decoded['digitalIn'][:,13]\n",
    "iti = decoded['digitalIn'][:,14]\n",
    "\n",
    "#get only the transientes for obtening the onsets (this is in packect number ID)\n",
    "sound1_diff = np.diff(sound1)\n",
    "sound2_diff = np.diff(sound2)\n",
    "sound3_diff = np.diff(sound3)\n",
    "sound4_diff = np.diff(sound4)\n",
    "sound5_diff = np.diff(sound5)\n",
    "sound6_diff = np.diff(sound6)\n",
    "iti_diff = np.diff(iti)\n",
    "\n",
    "## get packet stamps in index from packets\n",
    "pack_stamps_sound1 = np.where(sound1_diff == 1)[0]\n",
    "pack_stamps_sound2 = np.where(sound2_diff == 1)[0]\n",
    "pack_stamps_sound3 = np.where(sound3_diff == 1)[0]\n",
    "pack_stamps_sound4 = np.where(sound4_diff == 1)[0]\n",
    "pack_stamps_sound5 = np.where(sound5_diff == 1)[0]\n",
    "pack_stamps_sound6 = np.where(sound6_diff == 1)[0]\n",
    "pack_stamps_iti = np.where(iti_diff == 1)[0]-1\n",
    "\n",
    "#convert packet number ID into time_stamps in micro seconds\n",
    "# time_stamp_sound1 = ((packet_time_stamp[pack_stamps_sound1] - packet_time_stamp[0])*sampling_rate_scanner/10**6).astype(int) - offset_frames\n",
    "# time_stamp_sound2 = ((packet_time_stamp[pack_stamps_sound2] - packet_time_stamp[0])*sampling_rate_scanner/10**6).astype(int) - offset_frames\n",
    "# time_stamp_sound3 = ((packet_time_stamp[pack_stamps_sound3] - packet_time_stamp[0])*sampling_rate_scanner/10**6).astype(int) - offset_frames\n",
    "# time_stamp_sound4 = ((packet_time_stamp[pack_stamps_sound4] - packet_time_stamp[0])*sampling_rate_scanner/10**6).astype(int) - offset_frames\n",
    "# time_stamp_sound5 = ((packet_time_stamp[pack_stamps_sound5] - packet_time_stamp[0])*sampling_rate_scanner/10**6).astype(int) - offset_frames\n",
    "# time_stamp_sound6 = ((packet_time_stamp[pack_stamps_sound6] - packet_time_stamp[0])*sampling_rate_scanner/10**6).astype(int) - offset_frames\n",
    "# time_stamp_iti = ((packet_time_stamp[pack_stamps_iti] - packet_time_stamp[0])*sampling_rate_scanner/10**6).astype(int) - offset_frames\n",
    "\n",
    "\n",
    "sound1_onset = ((pack_stamps_sound1 - positions[0])/1000)\n",
    "[values,edges] = np.histogram(sound1_onset,bins = frameTs)\n",
    "time_stamp_sound1 = np.where(values==1)[0]\n",
    "\n",
    "sound2_onset = ((pack_stamps_sound2 - positions[0])/1000)\n",
    "[values,edges] = np.histogram(sound2_onset,bins = frameTs)\n",
    "time_stamp_sound2 = np.where(values==1)[0]\n",
    "\n",
    "sound3_onset = ((pack_stamps_sound3 - positions[0])/1000)\n",
    "[values,edges] = np.histogram(sound3_onset,bins = frameTs)\n",
    "time_stamp_sound3 = np.where(values==1)[0]\n",
    "\n",
    "sound4_onset = ((pack_stamps_sound4 - positions[0])/1000)\n",
    "[values,edges] = np.histogram(sound4_onset,bins = frameTs)\n",
    "time_stamp_sound4 = np.where(values==1)[0]\n",
    "\n",
    "sound5_onset = ((pack_stamps_sound5 - positions[0])/1000)\n",
    "[values,edges] = np.histogram(sound5_onset,bins = frameTs)\n",
    "time_stamp_sound5 = np.where(values==1)[0]\n",
    "\n",
    "sound6_onset = ((pack_stamps_sound6 - positions[0])/1000)\n",
    "[values,edges] = np.histogram(sound6_onset,bins = frameTs)\n",
    "time_stamp_sound6 = np.where(values==1)[0]\n",
    "\n",
    "iti_onset = ((pack_stamps_iti - positions[0])/1000)\n",
    "[values,edges] = np.histogram(iti_onset,bins = frameTs)\n",
    "time_stamp_iti = np.where(values==1)[0]\n",
    "\n",
    "\n",
    "\n",
    "#verify whether there is any packet loss\n",
    "# loss = np.mean((pack_stamps_sound1*1000 - time_stamp_sound1)**2) + np.mean((pack_stamps_sound2*1000 - time_stamp_sound2)**2) \n",
    "# + np.mean((pack_stamps_sound3*1000 - time_stamp_sound3)**2) + np.mean((pack_stamps_sound4*1000 - time_stamp_sound4)**2) \n",
    "# + np.mean((pack_stamps_sound5*1000 - time_stamp_sound5)**2) + np.mean((pack_stamps_sound6*1000 - time_stamp_sound6)**2) \n",
    "# + np.mean((pack_stamps_iti*1000 - time_stamp_iti)**2) \n",
    "\n",
    "print('Number of lost packets :' , loss)\n"
   ]
  },
  {
   "cell_type": "code",
   "execution_count": 124,
   "id": "21dd62a5-25ae-4517-80bc-3c33135a8720",
   "metadata": {},
   "outputs": [],
   "source": [
    "output = {'sampling_rate': sampling_rate_scanner,'offset': offset_frames,'sound1':time_stamp_sound1, 'sound2': time_stamp_sound2, \n",
    "          'sound3': time_stamp_sound3, 'sound4': time_stamp_sound4, 'sound5': time_stamp_sound5, 'sound6': time_stamp_sound6, 'iti': time_stamp_iti}\n",
    "path=os.path.join(path_output, Name+'_output'+'.pickle')\n",
    "#np.save(path,output)"
   ]
  },
  {
   "cell_type": "code",
   "execution_count": 125,
   "id": "d63dc439-c008-4eb2-af81-259847abeddb",
   "metadata": {},
   "outputs": [
    {
     "data": {
      "text/plain": [
       "array([ 6996,  7717,  9519, 10241, 14926, 18536, 18897, 19257, 22141,\n",
       "       25748, 26469, 27552, 29535, 31335, 38185, 38546, 41788, 42149,\n",
       "       44310, 46112])"
      ]
     },
     "execution_count": 125,
     "metadata": {},
     "output_type": "execute_result"
    }
   ],
   "source": [
    "time_stamp_sound1"
   ]
  },
  {
   "cell_type": "code",
   "execution_count": 126,
   "id": "f9162592-15ee-4f6e-b0b7-642a4f3ec9c6",
   "metadata": {},
   "outputs": [],
   "source": [
    "with open(path, 'wb') as f:\n",
    "    pickle.dump(output, f)"
   ]
  },
  {
   "cell_type": "code",
   "execution_count": 127,
   "id": "b0db0f10-95fd-4c79-a20c-e3d903f24824",
   "metadata": {},
   "outputs": [],
   "source": [
    "output = {'sampling_rate': sampling_rate_scanner,'offset': offset_frames,'sound1':time_stamp_sound1, 'sound2': time_stamp_sound2, \n",
    "          'sound3': time_stamp_sound3, 'sound4': time_stamp_sound4, 'sound5': time_stamp_sound5, 'sound6': time_stamp_sound6, 'iti': time_stamp_iti}\n",
    "path=os.path.join(path_output, Name+'_output'+'.mat')\n",
    "savemat(path, output)"
   ]
  },
  {
   "cell_type": "code",
   "execution_count": 128,
   "id": "e0af96bc-9090-40ca-9bb5-e1bfd179fe4a",
   "metadata": {},
   "outputs": [
    {
     "data": {
      "text/plain": [
       "722"
      ]
     },
     "execution_count": 128,
     "metadata": {},
     "output_type": "execute_result"
    }
   ],
   "source": [
    "offset_frames"
   ]
  },
  {
   "cell_type": "code",
   "execution_count": 82,
   "id": "b60c59c1-f61b-44df-a118-62acdef87362",
   "metadata": {},
   "outputs": [
    {
     "data": {
      "text/plain": [
       "array([0.00000000e+00, 3.33845250e-02, 6.67690750e-02, ...,\n",
       "       1.88090130e+03, 1.88093470e+03, 1.88096809e+03])"
      ]
     },
     "execution_count": 82,
     "metadata": {},
     "output_type": "execute_result"
    }
   ],
   "source": [
    "edges"
   ]
  },
  {
   "cell_type": "code",
   "execution_count": 38,
   "id": "a065803b-0b5c-4a24-bfcd-e224502270ad",
   "metadata": {},
   "outputs": [
    {
     "data": {
      "text/plain": [
       "array([ 7802.37034397,  8606.04459513, 10615.73114189, 11420.8413605 ,\n",
       "       16646.29353883, 20672.24536698, 21074.18267634, 21476.28695865,\n",
       "       24692.88745501, 28715.06569427, 29519.14068053, 30726.75591655,\n",
       "       32937.84524769, 34945.82867026, 42585.27572074, 42987.27981928,\n",
       "       46603.51339814, 47005.08336698, 49415.33804483, 51425.12477537])"
      ]
     },
     "execution_count": 38,
     "metadata": {},
     "output_type": "execute_result"
    }
   ],
   "source": [
    "pack_stamps_sound1*sampling_rate_scanner/1000 - offset_frames"
   ]
  },
  {
   "cell_type": "code",
   "execution_count": 67,
   "id": "c2ca7af4-edd0-4e67-9768-d82f8d3f686d",
   "metadata": {},
   "outputs": [],
   "source": [
    "sound1_onset = ((pack_stamps_sound1 - positions[0])/1000)"
   ]
  },
  {
   "cell_type": "code",
   "execution_count": 84,
   "id": "4e570016-6281-4308-8744-f270d2d0f962",
   "metadata": {},
   "outputs": [
    {
     "data": {
      "text/plain": [
       "array([ 233.64 ,  257.706,  317.886,  341.995,  498.471,  619.028,\n",
       "        631.064,  643.105,  739.426,  859.87 ,  883.948,  920.11 ,\n",
       "        986.321, 1046.45 , 1275.213, 1287.251, 1395.539, 1407.564,\n",
       "       1479.739, 1539.922])"
      ]
     },
     "execution_count": 84,
     "metadata": {},
     "output_type": "execute_result"
    }
   ],
   "source": [
    "sound1_onset"
   ]
  },
  {
   "cell_type": "code",
   "execution_count": 108,
   "id": "ad316886-8caf-45d8-9f7a-c69c2e1a0d35",
   "metadata": {},
   "outputs": [
    {
     "data": {
      "text/plain": [
       "array([0.00000000e+00, 3.33845250e-02, 6.67690750e-02, ...,\n",
       "       1.88090130e+03, 1.88093470e+03, 1.88096809e+03])"
      ]
     },
     "execution_count": 108,
     "metadata": {},
     "output_type": "execute_result"
    }
   ],
   "source": [
    "frameTs"
   ]
  },
  {
   "cell_type": "code",
   "execution_count": null,
   "id": "b4d4f1a1-8e46-4485-a7cf-e2f85de489ae",
   "metadata": {},
   "outputs": [],
   "source": []
  }
 ],
 "metadata": {
  "kernelspec": {
   "display_name": "Python 3 (ipykernel)",
   "language": "python",
   "name": "python3"
  },
  "language_info": {
   "codemirror_mode": {
    "name": "ipython",
    "version": 3
   },
   "file_extension": ".py",
   "mimetype": "text/x-python",
   "name": "python",
   "nbconvert_exporter": "python",
   "pygments_lexer": "ipython3",
   "version": "3.9.7"
  }
 },
 "nbformat": 4,
 "nbformat_minor": 5
}
