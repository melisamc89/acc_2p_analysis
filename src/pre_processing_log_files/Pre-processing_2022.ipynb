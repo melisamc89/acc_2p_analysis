{
 "cells": [
  {
   "cell_type": "markdown",
   "id": "b7f10622-e8a6-41e3-8bce-fa1c66f2bbe2",
   "metadata": {},
   "source": [
    "# Pre-processing Behavioral data\n",
    "### Inspiration from Ronny Eichler pre-processing code\n"
   ]
  },
  {
   "cell_type": "code",
   "execution_count": 1,
   "id": "4017d1dc-6a13-4cb8-b79b-6600ef416f20",
   "metadata": {},
   "outputs": [],
   "source": [
    "# Importation \n",
    "import numpy as np\n",
    "import base64\n",
    "import struct\n",
    "from cobs import cobs\n",
    "from collections import namedtuple\n",
    "from pathlib import Path\n",
    "import matplotlib.pyplot as plt\n",
    "from matplotlib.pyplot import plot\n",
    "from tqdm.notebook import tqdm\n",
    "import scipy.signal\n",
    "from scipy.io import savemat\n",
    "import rawpy\n",
    "import imageio\n",
    "import os"
   ]
  },
  {
   "cell_type": "markdown",
   "id": "68fe632b-8833-4368-8b88-8024420025a0",
   "metadata": {},
   "source": [
    "#### Decoding "
   ]
  },
  {
   "cell_type": "code",
   "execution_count": 3,
   "id": "9f2f54ac-b9f8-4064-bace-7cc0cba85a14",
   "metadata": {},
   "outputs": [
    {
     "name": "stdout",
     "output_type": "stream",
     "text": [
      "CPU times: user 178 ms, sys: 50.7 ms, total: 229 ms\n",
      "Wall time: 233 ms\n",
      "/home/melisamc/Documentos/acc_2p_analysis/data/log_files/20220513-165536_677.b64\n",
      "2085888 packets, ~34.76 minutes\n"
     ]
    },
    {
     "data": {
      "application/vnd.jupyter.widget-view+json": {
       "model_id": "d9ef23e26a6d47f7b71347a5c1bf3cc5",
       "version_major": 2,
       "version_minor": 0
      },
      "text/plain": [
       "  0%|          | 0/2085888 [00:00<?, ?it/s]"
      ]
     },
     "metadata": {},
     "output_type": "display_data"
    },
    {
     "name": "stdout",
     "output_type": "stream",
     "text": [
      "20220513-165536_677\n"
     ]
    }
   ],
   "source": [
    "Path_non_decoded_files= '/home/melisamc/Documentos/acc_2p_analysis/data/log_files/'\n",
    "Path_decoded ='/home/melisamc/Documentos/acc_2p_analysis/logfiles_decoded/'\n",
    "\n",
    "for filename in os.listdir(Path_non_decoded_files):\n",
    "    if filename.endswith(\".b64\"):\n",
    "        bp=os.path.join(Path_non_decoded_files, filename)\n",
    "      # Format package\n",
    "        DataPacketDesc = {'type': 'B',\n",
    "                          'size': 'B',\n",
    "                          'crc16': 'H',\n",
    "                          'packetID': 'I',\n",
    "                          'us_start': 'I',\n",
    "                          'us_end': 'I',\n",
    "                          'analog': '8H',\n",
    "                          'states': '8l',\n",
    "                          'digitalIn': 'H',\n",
    "                          'digitalOut': 'B',\n",
    "                          'padding': 'x'}\n",
    "\n",
    "\n",
    "        DataPacket = namedtuple('DataPacket', DataPacketDesc.keys())\n",
    "        DataPacketStruct = '<' + ''.join(DataPacketDesc.values())\n",
    "        DataPacketSize = struct.calcsize(DataPacketStruct)\n",
    "\n",
    "        # package with non-digital data\n",
    "        dtype_no_digital = [\n",
    "            ('type', np.uint8),\n",
    "            ('size', np.uint8),\n",
    "            ('crc16', np.uint16),\n",
    "            ('packetID', np.uint32),\n",
    "            ('us_start', np.uint32),\n",
    "            ('us_end', np.uint32),\n",
    "            ('analog', np.uint16, (8, )),\n",
    "            ('states', np.uint32, (8, ))]\n",
    "\n",
    "        # DigitalIn and DigitalOut\n",
    "        dtype_w_digital = dtype_no_digital + [('digital_in', np.uint16, (16, )), ('digital_out', np.uint8, (8, ))]\n",
    "\n",
    "        # Creating arrat with all the data (differenciation digital/non digital)\n",
    "        np_DataPacketType_noDigital = np.dtype(dtype_no_digital)\n",
    "        np_DataPacketType_withDigital = np.dtype(dtype_w_digital)\n",
    "        # Unpack the data as done on the teensy commander code\n",
    "        \n",
    "        # function to count the packet number\n",
    "        def count_lines(fp):\n",
    "            def _make_gen(reader):\n",
    "                b = reader(2**16)\n",
    "                while b:\n",
    "                    yield b\n",
    "                    b = reader(2**16)\n",
    "            with open(fp, 'rb') as f:\n",
    "                count = sum(buf.count(b'\\n') for buf in _make_gen(f.raw.read))\n",
    "            return count\n",
    "        \n",
    "        %time num_lines = count_lines(bp)\n",
    "        log_duration = num_lines/1000/60\n",
    "        print(bp)\n",
    "        print(f'{num_lines} packets, ~{log_duration:0.2f} minutes')\n",
    "\n",
    "        def unpack_data_packet(dp):\n",
    "            s = struct.unpack(DataPacketStruct, dp)\n",
    "            up = DataPacket(type=s[0], size=s[1], crc16=s[2], packetID=s[3], us_start=s[4], us_end=s[5],\n",
    "                                analog=s[6:14], states=s[14:22], digitalIn=s[22], digitalOut=s[23], padding=None)\n",
    "\n",
    "            return up\n",
    "        \n",
    "        # Decode and create new dataset\n",
    "        data = np.zeros(num_lines, dtype=np_DataPacketType_withDigital)\n",
    "        non_digital_names = list(np_DataPacketType_noDigital.names)\n",
    "\n",
    "        with open(bp, 'rb') as bf:\n",
    "            for nline, line in enumerate(tqdm(bf, total=num_lines)):\n",
    "                bl = cobs.decode(base64.b64decode(line[:-1])[:-1])\n",
    "                dp = unpack_data_packet(bl)\n",
    "\n",
    "                data[non_digital_names][nline] = np.frombuffer(bl[:-4], dtype=np_DataPacketType_noDigital)\n",
    "                digital_arr = np.frombuffer(bl[-4:], dtype=np.uint8)\n",
    "                data[nline]['digital_in'] = np.hstack([np.unpackbits(digital_arr[1]), np.unpackbits(digital_arr[0])])\n",
    "                data[nline]['digital_out'] = np.unpackbits(np.array(digital_arr[2], dtype=np.uint8))\n",
    "        #Check for packetID jumps\n",
    "        jumps = np.unique(np.diff(data['packetID']))\n",
    "        \n",
    "        \n",
    "        #assert(len(jumps) and jumps[0] == 1)\n",
    "        decoded = {\"analog\":data['analog'], \"digitalIn\":data['digital_in'], \"digitalOut\":data['digital_out'], \"startTS\":data['us_start'], \"transmitTS\":data['us_end'], \"longVar\":data['states'], \"packetNums\":data['packetID']}\n",
    "        name=os.path.splitext(filename)[0]\n",
    "        print(name)\n",
    "        path=os.path.join(Path_decoded, name +'_decoded'+'.mat')\n",
    "        savemat(path, decoded)"
   ]
  },
  {
   "cell_type": "code",
   "execution_count": 4,
   "id": "dfca8739-585a-40ef-be23-ef04a12439bb",
   "metadata": {},
   "outputs": [],
   "source": [
    "x = data['states']"
   ]
  },
  {
   "cell_type": "code",
   "execution_count": 16,
   "id": "8263f48f-4a64-4072-956a-1c04059c5377",
   "metadata": {},
   "outputs": [
    {
     "data": {
      "text/plain": [
       "(2085888, 8)"
      ]
     },
     "execution_count": 16,
     "metadata": {},
     "output_type": "execute_result"
    }
   ],
   "source": [
    "x.shape"
   ]
  },
  {
   "cell_type": "code",
   "execution_count": 39,
   "id": "f305f781-6618-483b-b8d9-c619b652d5e0",
   "metadata": {},
   "outputs": [
    {
     "data": {
      "text/plain": [
       "(250000.0, 500000.0)"
      ]
     },
     "execution_count": 39,
     "metadata": {},
     "output_type": "execute_result"
    },
    {
     "data": {
      "image/png": "[encoded data removed]",
      "text/plain": [
       "<Figure size 432x288 with 1 Axes>"
      ]
     },
     "metadata": {
      "needs_background": "light"
     },
     "output_type": "display_data"
    }
   ],
   "source": [
    "import matplotlib.pyplot as plt\n",
    "import scipy as sp\n",
    "\n",
    "figure, axes = plt.subplots()\n",
    "axes.plot(np.diff(x[:,1]))\n",
    "#axes.set_ylim([0,10])\n",
    "axes.set_xlim([250000,500000])"
   ]
  },
  {
   "cell_type": "code",
   "execution_count": 38,
   "id": "2de3e801-1ae2-4bc1-880e-a0537b22e73f",
   "metadata": {},
   "outputs": [
    {
     "data": {
      "text/plain": [
       "(250000.0, 500000.0)"
      ]
     },
     "execution_count": 38,
     "metadata": {},
     "output_type": "execute_result"
    },
    {
     "data": {
      "image/png": "[encoded data removed]",
      "text/plain": [
       "<Figure size 432x288 with 1 Axes>"
      ]
     },
     "metadata": {
      "needs_background": "light"
     },
     "output_type": "display_data"
    }
   ],
   "source": [
    "figure, axes = plt.subplots()\n",
    "axes.plot(x[:,1])\n",
    "axes.set_xlim([250000,500000])"
   ]
  },
  {
   "cell_type": "code",
   "execution_count": null,
   "id": "a2eedd22-34fc-448e-8c5c-a65c9d13689f",
   "metadata": {},
   "outputs": [],
   "source": []
  }
 ],
 "metadata": {
  "kernelspec": {
   "display_name": "Python 3 (ipykernel)",
   "language": "python",
   "name": "python3"
  },
  "language_info": {
   "codemirror_mode": {
    "name": "ipython",
    "version": 3
   },
   "file_extension": ".py",
   "mimetype": "text/x-python",
   "name": "python",
   "nbconvert_exporter": "python",
   "pygments_lexer": "ipython3",
   "version": "3.9.7"
  }
 },
 "nbformat": 4,
 "nbformat_minor": 5
}
